{
 "cells": [
  {
   "cell_type": "code",
   "execution_count": 1,
   "metadata": {},
   "outputs": [
    {
     "name": "stdout",
     "output_type": "stream",
     "text": [
      "데이터가 병합되어 ../data/agromarket_climate.csv에 저장되었습니다.\n"
     ]
    }
   ],
   "source": [
    "import pandas as pd\n",
    "\n",
    "# 데이터 파일 경로\n",
    "climate_data_file = \"../data/processed/climate_data.csv\"\n",
    "agromarket_data_file = \"../data/processed/preprocessed_agromarket2.csv\"\n",
    "\n",
    "# 데이터 불러오기\n",
    "climate_data = pd.read_csv(climate_data_file, encoding='utf-8')\n",
    "agromarket_data = pd.read_csv(agromarket_data_file, encoding='utf-8')\n",
    "\n",
    "# 날짜 컬럼이 표준 형식인지 확인하고 변환\n",
    "climate_data['date'] = pd.to_datetime(climate_data['date'])\n",
    "agromarket_data['date'] = pd.to_datetime(agromarket_data['date'])\n",
    "\n",
    "# 데이터 병합 (region과 date를 기준으로)\n",
    "merged_data = pd.merge(agromarket_data, climate_data, on=['region', 'date'], how='inner')\n",
    "\n",
    "# 병합 후 중복되는 컬럼 제거 (region과 date 하나씩만 남김)\n",
    "merged_data = merged_data.loc[:, ~merged_data.columns.duplicated()]\n",
    "\n",
    "# 병합 결과 저장\n",
    "output_file_path = \"../data/agromarket_climate.csv\"\n",
    "merged_data.to_csv(output_file_path, index=False, encoding='utf-8-sig')\n",
    "\n",
    "print(f\"데이터가 병합되어 {output_file_path}에 저장되었습니다.\")\n"
   ]
  },
  {
   "cell_type": "code",
   "execution_count": null,
   "metadata": {},
   "outputs": [],
   "source": []
  },
  {
   "cell_type": "code",
   "execution_count": 3,
   "metadata": {},
   "outputs": [
    {
     "name": "stdout",
     "output_type": "stream",
     "text": [
      "경매 데이터와 기후 데이터를 성공적으로 병합하고 저장했습니다.\n"
     ]
    }
   ],
   "source": [
    "# import os\n",
    "# import pandas as pd\n",
    "\n",
    "# # 경매 데이터 폴더와 기후 데이터 파일 경로\n",
    "# auction_data_folder = \"../data/processed/agromarket_yearandseason\"\n",
    "# climate_data_file = \"../data/climate_data.csv\"\n",
    "\n",
    "# # 결합된 데이터 저장 폴더\n",
    "# output_folder = \"../data/processed/auction_weather\"\n",
    "# os.makedirs(output_folder, exist_ok=True)\n",
    "\n",
    "# # 기후 데이터 불러오기\n",
    "# climate_data = pd.read_csv(climate_data_file, encoding='utf-8')\n",
    "\n",
    "# # 날짜 컬럼이 표준 형식인지 확인하고 변환\n",
    "# climate_data['date'] = pd.to_datetime(climate_data['date'])\n",
    "\n",
    "# # 경매 데이터 파일 처리\n",
    "# for file_name in os.listdir(auction_data_folder):\n",
    "#     if file_name.endswith('.csv'):  # CSV 파일만 처리\n",
    "#         auction_data_path = os.path.join(auction_data_folder, file_name)\n",
    "#         auction_data = pd.read_csv(auction_data_path, encoding='utf-8')\n",
    "\n",
    "#         # 날짜 컬럼이 표준 형식인지 확인하고 변환\n",
    "#         auction_data['date'] = pd.to_datetime(auction_data['date'])\n",
    "\n",
    "#         # 데이터 병합 (region과 date를 기준으로)\n",
    "#         merged_data = pd.merge(auction_data, climate_data, on=['region', 'date'], how='inner')\n",
    "\n",
    "#         # 병합 후 중복되는 컬럼 제거 (region과 date 하나씩만 남김)\n",
    "#         merged_data = merged_data.loc[:, ~merged_data.columns.duplicated()]\n",
    "\n",
    "#         # 결과 저장 (UTF-8-SIG 인코딩으로 저장)\n",
    "#         output_file_path = os.path.join(output_folder, file_name)\n",
    "#         merged_data.to_csv(output_file_path, index=False, encoding='utf-8-sig')\n",
    "\n",
    "# print(\"경매 데이터와 기후 데이터를 성공적으로 병합하고 저장했습니다.\")\n"
   ]
  },
  {
   "cell_type": "code",
   "execution_count": null,
   "metadata": {},
   "outputs": [],
   "source": []
  },
  {
   "cell_type": "code",
   "execution_count": null,
   "metadata": {},
   "outputs": [],
   "source": []
  },
  {
   "cell_type": "code",
   "execution_count": null,
   "metadata": {},
   "outputs": [],
   "source": []
  },
  {
   "cell_type": "code",
   "execution_count": null,
   "metadata": {},
   "outputs": [],
   "source": []
  },
  {
   "cell_type": "code",
   "execution_count": null,
   "metadata": {},
   "outputs": [],
   "source": []
  },
  {
   "cell_type": "code",
   "execution_count": null,
   "metadata": {},
   "outputs": [],
   "source": []
  },
  {
   "cell_type": "code",
   "execution_count": null,
   "metadata": {},
   "outputs": [],
   "source": []
  },
  {
   "cell_type": "code",
   "execution_count": null,
   "metadata": {},
   "outputs": [],
   "source": []
  }
 ],
 "metadata": {
  "kernelspec": {
   "display_name": "cv",
   "language": "python",
   "name": "python3"
  },
  "language_info": {
   "codemirror_mode": {
    "name": "ipython",
    "version": 3
   },
   "file_extension": ".py",
   "mimetype": "text/x-python",
   "name": "python",
   "nbconvert_exporter": "python",
   "pygments_lexer": "ipython3",
   "version": "3.11.10"
  }
 },
 "nbformat": 4,
 "nbformat_minor": 2
}
