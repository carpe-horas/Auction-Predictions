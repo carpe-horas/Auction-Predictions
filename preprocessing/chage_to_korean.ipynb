{
 "cells": [
  {
   "cell_type": "code",
   "execution_count": 1,
   "metadata": {},
   "outputs": [
    {
     "name": "stdout",
     "output_type": "stream",
     "text": [
      "         date  year  month  day season region wholesale_market category item  \\\n",
      "0  2019-02-01  2019      2    1     겨울     강릉               강릉      버섯류  새송이   \n",
      "1  2019-02-01  2019      2    1     겨울     강릉               강릉    조미채소류   마늘   \n",
      "2  2019-02-01  2019      2    1     겨울     강릉               강릉    조미채소류   마늘   \n",
      "3  2019-02-01  2019      2    1     겨울     강릉               강릉    조미채소류   마늘   \n",
      "4  2019-02-01  2019      2    1     겨울     강릉               강릉    조미채소류  풋고추   \n",
      "\n",
      "   quantity_kg  price_won  unit_price_per_kg  avg_quantity_kg  avg_price_won  \\\n",
      "0       1303.0  4081500.0            3132.39          1303.00      4081500.0   \n",
      "1        224.0   586000.0            4844.10           573.67      2778900.0   \n",
      "2       1287.0  7259700.0            4844.10           573.67      2778900.0   \n",
      "3        210.0   491000.0            4844.10           573.67      2778900.0   \n",
      "4         62.0   244000.0            6510.09           396.50      2581250.0   \n",
      "\n",
      "   avg_unit_price_per_kg  \n",
      "0                3132.39  \n",
      "1                4844.10  \n",
      "2                4844.10  \n",
      "3                4844.10  \n",
      "4                6510.09  \n",
      "CSV 파일이 '../data/processed/preprocessed_agromarket2.csv'로 저장되었습니다.\n"
     ]
    }
   ],
   "source": [
    "import pandas as pd\n",
    "\n",
    "input_file = '../data/processed/preprocessed_agromarket2.csv'  # 원본 CSV 파일 경로\n",
    "output_file = '../data/processed/preprocessed_agromarket2.csv'  # 저장할 CSV 파일 경로\n",
    "\n",
    "try:\n",
    "    # UTF-8로 시도\n",
    "    df = pd.read_csv(input_file, encoding='utf-8')\n",
    "except UnicodeDecodeError:\n",
    "    # UTF-8이 실패하면 CP949로 시도\n",
    "    df = pd.read_csv(input_file, encoding='cp949')\n",
    "\n",
    "print(df.head())\n",
    "\n",
    "# utf-8로 저장\n",
    "df.to_csv(output_file, index=False, encoding='utf-8-sig') \n",
    "\n",
    "print(f\"CSV 파일이 '{output_file}'로 저장되었습니다.\")"
   ]
  }
 ],
 "metadata": {
  "kernelspec": {
   "display_name": "cv",
   "language": "python",
   "name": "python3"
  },
  "language_info": {
   "codemirror_mode": {
    "name": "ipython",
    "version": 3
   },
   "file_extension": ".py",
   "mimetype": "text/x-python",
   "name": "python",
   "nbconvert_exporter": "python",
   "pygments_lexer": "ipython3",
   "version": "3.11.10"
  }
 },
 "nbformat": 4,
 "nbformat_minor": 2
}
