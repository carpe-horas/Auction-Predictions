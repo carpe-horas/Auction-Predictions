{
 "cells": [
  {
   "cell_type": "code",
   "execution_count": 1,
   "metadata": {},
   "outputs": [],
   "source": [
    "#  Imports\n",
    "import pandas as pd\n",
    "import os\n",
    "\n",
    "# 경로 설정\n",
    "base_dir = os.path.abspath(os.path.join(os.getcwd(), '..')) \n",
    "data_dir = os.path.join(base_dir, 'data')  # data 폴더 경로\n",
    "processed_dir = os.path.join(data_dir, 'processed')  # processed 폴더 경로\n",
    "\n",
    "# 파일 경로 설정\n",
    "climate_data_path = os.path.join(processed_dir, 'preprocessed_climate.csv')\n",
    "market_data_path = os.path.join(processed_dir, 'preprocessed_agromarket.csv')\n",
    "\n",
    "# 데이터 불러오기\n",
    "dfc = pd.read_csv(climate_data_path)\n",
    "dfm = pd.read_csv(market_data_path)"
   ]
  },
  {
   "cell_type": "code",
   "execution_count": 2,
   "metadata": {},
   "outputs": [],
   "source": [
    "#  날짜 컬럼 변환\n",
    "dfc['일시'] = pd.to_datetime(dfc['일시'], format='%Y-%m-%d')\n",
    "dfm['일자'] = pd.to_datetime(dfm['일자'].astype(str), format='%Y%m%d')\n",
    "\n",
    "# 2024-12-20 이후의 데이터 필터링\n",
    "dfm = dfm[dfm['일자'] < '2024-12-20']"
   ]
  },
  {
   "cell_type": "code",
   "execution_count": 3,
   "metadata": {},
   "outputs": [],
   "source": [
    "#  서울/수도권 도매시장 필터링\n",
    "# 서울 및 수도권 도매시장 필터링\n",
    "capital_region_markets = ['구리', '서울가락', '서울강서', '수원', '인천남촌', '인천삼산', '안산', '안양']\n",
    "dfm = dfm[dfm['도매시장'].isin(capital_region_markets)]\n",
    "\n",
    "# 서울 지역 날씨 필터링\n",
    "dfc = dfc[dfc['지점명'] == '서울']"
   ]
  },
  {
   "cell_type": "code",
   "execution_count": 4,
   "metadata": {},
   "outputs": [],
   "source": [
    "# 품목별 단위가격 계산 및 일자별 집계\n",
    "dfm['단위가격(원/kg)'] = dfm['금액(원)'] / dfm['물량(kg)']\n",
    "\n",
    "# 품목별 일자별 총물량과 평균단가 계산\n",
    "dfm_daily = (\n",
    "    dfm.groupby(['품목', '일자'])\n",
    "    .agg(총물량=('물량(kg)', 'sum'), 평균단가=('단위가격(원/kg)', 'mean'))\n",
    "    .reset_index()\n",
    ")\n"
   ]
  },
  {
   "cell_type": "code",
   "execution_count": 5,
   "metadata": {},
   "outputs": [],
   "source": [
    "# 평균 현지기압 칼럼 삭제\n",
    "if '평균 현지기압(hPa)' in dfc.columns:\n",
    "    dfc = dfc.drop(columns=['평균 현지기압(hPa)'])"
   ]
  },
  {
   "cell_type": "code",
   "execution_count": 6,
   "metadata": {},
   "outputs": [],
   "source": [
    "# 결측값(NaN) 처리\n",
    "weather_cols = [\n",
    "    '평균기온(°C)', '최저기온(°C)', '최고기온(°C)',\n",
    "    '일강수량(mm)', '최대 풍속(m/s)', '평균 풍속(m/s)',\n",
    "    '평균 상대습도(%)', '합계 일조시간(hr)', '일 최심신적설(cm)'\n",
    "]\n",
    "for col in weather_cols:\n",
    "    if col in dfc.columns:\n",
    "        dfc[col] = dfc[col].fillna(0)"
   ]
  },
  {
   "cell_type": "code",
   "execution_count": 7,
   "metadata": {},
   "outputs": [],
   "source": [
    "# 데이터 결합\n",
    "dfc = dfc.rename(columns={'일시': '일자'})\n",
    "df_final = pd.merge(dfm_daily, dfc, on='일자', how='left')"
   ]
  },
  {
   "cell_type": "code",
   "execution_count": 8,
   "metadata": {},
   "outputs": [],
   "source": [
    "# 파생 변수 생성\n",
    "df_final['온도차(°C)'] = (df_final['최고기온(°C)'] - df_final['최저기온(°C)']).round(1) \n",
    "df_final['월'] = df_final['일자'].dt.month\n",
    "df_final['계절'] = df_final['월'].apply(lambda x: (x % 12 + 3) // 3)"
   ]
  },
  {
   "cell_type": "code",
   "execution_count": 9,
   "metadata": {},
   "outputs": [],
   "source": [
    "# 데이터 저장\n",
    "final_data_path = os.path.join(processed_dir, 'daily_average_price_volume_by_product_seoul.csv')\n",
    "df_final.to_csv(final_data_path, index=False, encoding='utf-8-sig')"
   ]
  },
  {
   "cell_type": "code",
   "execution_count": 10,
   "metadata": {},
   "outputs": [
    {
     "name": "stdout",
     "output_type": "stream",
     "text": [
      "=== 최종 df_final 기본 정보 ===\n",
      "<class 'pandas.core.frame.DataFrame'>\n",
      "RangeIndex: 53244 entries, 0 to 53243\n",
      "Data columns (total 17 columns):\n",
      " #   Column       Non-Null Count  Dtype         \n",
      "---  ------       --------------  -----         \n",
      " 0   품목           53244 non-null  object        \n",
      " 1   일자           53244 non-null  datetime64[ns]\n",
      " 2   총물량          53244 non-null  float64       \n",
      " 3   평균단가         53244 non-null  float64       \n",
      " 4   지점명          53244 non-null  object        \n",
      " 5   평균기온(°C)     53244 non-null  float64       \n",
      " 6   최저기온(°C)     53244 non-null  float64       \n",
      " 7   최고기온(°C)     53244 non-null  float64       \n",
      " 8   일강수량(mm)     53244 non-null  float64       \n",
      " 9   최대 풍속(m/s)   53244 non-null  float64       \n",
      " 10  평균 풍속(m/s)   53244 non-null  float64       \n",
      " 11  평균 상대습도(%)   53244 non-null  float64       \n",
      " 12  합계 일조시간(hr)  53244 non-null  float64       \n",
      " 13  일 최심신적설(cm)  53244 non-null  float64       \n",
      " 14  온도차(°C)      53244 non-null  float64       \n",
      " 15  월            53244 non-null  int32         \n",
      " 16  계절           53244 non-null  int64         \n",
      "dtypes: datetime64[ns](1), float64(12), int32(1), int64(1), object(2)\n",
      "memory usage: 6.7+ MB\n",
      "None\n",
      "   품목         일자        총물량         평균단가 지점명  평균기온(°C)  최저기온(°C)  최고기온(°C)  \\\n",
      "0  감귤 2019-01-03  1797298.1  3241.550629  서울      -3.5      -8.4       3.2   \n",
      "1  감귤 2019-01-04  1356605.5  3241.630229  서울      -1.1      -6.2       4.1   \n",
      "2  감귤 2019-01-05  1306249.6  3246.549462  서울      -2.8      -5.5       1.1   \n",
      "3  감귤 2019-01-07  1519848.7  3280.563932  서울      -1.9      -6.2       3.1   \n",
      "4  감귤 2019-01-08  1282793.0  3092.842498  서울      -3.5      -7.2       0.5   \n",
      "5  감귤 2019-01-09  1273267.1  3042.698840  서울      -4.7      -9.4       1.3   \n",
      "6  감귤 2019-01-10  1134999.0  3091.178186  서울      -0.6      -4.5       3.0   \n",
      "7  감귤 2019-01-11  1118079.5  3083.649713  서울       2.4      -0.4       7.2   \n",
      "8  감귤 2019-01-12  1050159.4  2894.340025  서울       2.8      -0.6       8.0   \n",
      "9  감귤 2019-01-14  1144333.1  3101.733114  서울       1.4      -2.4       5.3   \n",
      "\n",
      "   일강수량(mm)  최대 풍속(m/s)  평균 풍속(m/s)  평균 상대습도(%)  합계 일조시간(hr)  일 최심신적설(cm)  \\\n",
      "0       0.0         2.9         1.4        38.8          8.7          0.0   \n",
      "1       0.0         3.0         1.2        55.5          3.9          0.0   \n",
      "2       0.0         4.3         2.2        40.3          8.6          0.0   \n",
      "3       0.0         4.7         1.4        46.4          7.0          0.0   \n",
      "4       0.0         6.5         2.6        31.0          8.7          0.0   \n",
      "5       0.0         3.5         1.3        28.8          7.4          0.0   \n",
      "6       0.0         3.8         1.3        48.8          3.1          0.0   \n",
      "7       0.0         2.6         1.0        58.8          6.9          0.0   \n",
      "8       0.0         3.5         1.3        47.6          6.0          0.0   \n",
      "9       0.0         2.5         0.9        68.6          0.4          0.0   \n",
      "\n",
      "   온도차(°C)  월  계절  \n",
      "0     11.6  1   1  \n",
      "1     10.3  1   1  \n",
      "2      6.6  1   1  \n",
      "3      9.3  1   1  \n",
      "4      7.7  1   1  \n",
      "5     10.7  1   1  \n",
      "6      7.5  1   1  \n",
      "7      7.6  1   1  \n",
      "8      8.6  1   1  \n",
      "9      7.7  1   1  \n"
     ]
    }
   ],
   "source": [
    "#  기본 정보 확인\n",
    "print(\"=== 최종 df_final 기본 정보 ===\")\n",
    "print(df_final.info())\n",
    "print(df_final.head(10))"
   ]
  }
 ],
 "metadata": {
  "kernelspec": {
   "display_name": "tf",
   "language": "python",
   "name": "python3"
  },
  "language_info": {
   "codemirror_mode": {
    "name": "ipython",
    "version": 3
   },
   "file_extension": ".py",
   "mimetype": "text/x-python",
   "name": "python",
   "nbconvert_exporter": "python",
   "pygments_lexer": "ipython3",
   "version": "3.10.15"
  }
 },
 "nbformat": 4,
 "nbformat_minor": 2
}
