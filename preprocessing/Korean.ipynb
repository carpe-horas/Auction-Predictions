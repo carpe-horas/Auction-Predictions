{
 "cells": [
  {
   "cell_type": "code",
   "execution_count": 3,
   "metadata": {},
   "outputs": [
    {
     "name": "stdout",
     "output_type": "stream",
     "text": [
      "         일자     부류   품목         품종 도매시장  물량(kg)      금액(원)\n",
      "0  20190201    버섯류  새송이  새송이버섯(일반)   강릉  1303.0  4081500.0\n",
      "1  20190201  조미채소류   마늘    마늘쫑(수입)   강릉   224.0   586000.0\n",
      "2  20190201  조미채소류   마늘        깐마늘   강릉  1287.0  7259700.0\n",
      "3  20190201  조미채소류   마늘        풋마늘   강릉   210.0   491000.0\n",
      "4  20190201  조미채소류  풋고추        아삭이   강릉    62.0   244000.0\n",
      "CSV 파일이 '../data/db/preprocessed_agromarket.csv'로 저장되었습니다.\n"
     ]
    }
   ],
   "source": [
    "import pandas as pd\n",
    "\n",
    "# 1. CSV 파일을 cp949 또는 utf-8로 읽어오기\n",
    "input_file = '../data/db/preprocessed_agromarket.csv'  # 원본 CSV 파일 경로\n",
    "output_file = '../data/db/preprocessed_agromarket.csv'  # 저장할 CSV 파일 경로\n",
    "\n",
    "try:\n",
    "    # 우선 UTF-8로 시도\n",
    "    df = pd.read_csv(input_file, encoding='utf-8')\n",
    "except UnicodeDecodeError:\n",
    "    # UTF-8이 실패하면 CP949로 시도\n",
    "    df = pd.read_csv(input_file, encoding='cp949')\n",
    "\n",
    "# 2. 읽어온 데이터 확인 (필요시 수정)\n",
    "print(df.head())\n",
    "\n",
    "# 3. 데이터를 utf-8로 저장\n",
    "df.to_csv(output_file, index=False, encoding='utf-8-sig')  # UTF-8 with BOM\n",
    "\n",
    "print(f\"CSV 파일이 '{output_file}'로 저장되었습니다.\")\n"
   ]
  }
 ],
 "metadata": {
  "kernelspec": {
   "display_name": "cv",
   "language": "python",
   "name": "python3"
  },
  "language_info": {
   "codemirror_mode": {
    "name": "ipython",
    "version": 3
   },
   "file_extension": ".py",
   "mimetype": "text/x-python",
   "name": "python",
   "nbconvert_exporter": "python",
   "pygments_lexer": "ipython3",
   "version": "3.11.10"
  }
 },
 "nbformat": 4,
 "nbformat_minor": 2
}
