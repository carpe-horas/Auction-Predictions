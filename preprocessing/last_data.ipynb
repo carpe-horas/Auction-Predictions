{
 "cells": [
  {
   "cell_type": "code",
   "execution_count": 1,
   "metadata": {},
   "outputs": [],
   "source": [
    "import pandas as pd"
   ]
  },
  {
   "cell_type": "code",
   "execution_count": 2,
   "metadata": {},
   "outputs": [],
   "source": [
    "file1 = \"../data/daily_average_price_volume_by_product_seoul.csv\"\n",
    "file2 = \"../output/clustering/clustering_results.csv\""
   ]
  },
  {
   "cell_type": "code",
   "execution_count": 3,
   "metadata": {},
   "outputs": [],
   "source": [
    "df1 = pd.read_csv(file1)\n",
    "df2 = pd.read_csv(file2)"
   ]
  },
  {
   "cell_type": "code",
   "execution_count": 4,
   "metadata": {},
   "outputs": [
    {
     "data": {
      "text/plain": [
       "Index(['품목', '일자', '총물량', '평균단가', '온도차(°C)', '평균기온(°C)', '일강수량(mm)', '계절'], dtype='object')"
      ]
     },
     "execution_count": 4,
     "metadata": {},
     "output_type": "execute_result"
    }
   ],
   "source": [
    "df1.columns"
   ]
  },
  {
   "cell_type": "code",
   "execution_count": 5,
   "metadata": {},
   "outputs": [
    {
     "data": {
      "text/plain": [
       "Index(['PCA1', 'PCA2', 'Item', 'Cluster'], dtype='object')"
      ]
     },
     "execution_count": 5,
     "metadata": {},
     "output_type": "execute_result"
    }
   ],
   "source": [
    "df2.columns"
   ]
  },
  {
   "cell_type": "code",
   "execution_count": 6,
   "metadata": {},
   "outputs": [],
   "source": [
    "df2.rename(columns={\"Item\": \"품목\"}, inplace=True)"
   ]
  },
  {
   "cell_type": "code",
   "execution_count": 8,
   "metadata": {},
   "outputs": [],
   "source": [
    "df2.rename(columns={\"품목\": \"item\"}, inplace=True)"
   ]
  },
  {
   "cell_type": "code",
   "execution_count": 9,
   "metadata": {},
   "outputs": [],
   "source": [
    "df2.rename(columns={\"Cluster\": \"cluster\"}, inplace=True)"
   ]
  },
  {
   "cell_type": "code",
   "execution_count": 7,
   "metadata": {},
   "outputs": [],
   "source": [
    "df1.rename(columns={\n",
    "    \"품목\": \"item\",\n",
    "    \"일자\": \"date\",\n",
    "    \"총물량\": \"total_quantity\",\n",
    "    \"평균단가\": \"average_price\",\n",
    "    \"온도차(°C)\": \"temperature_range\",\n",
    "    \"평균기온(°C)\": \"average_temperature\",\n",
    "    \"일강수량(mm)\": \"daily_rainfall\",\n",
    "    \"계절\": \"season\"\n",
    "}, inplace=True)"
   ]
  },
  {
   "cell_type": "code",
   "execution_count": 10,
   "metadata": {},
   "outputs": [],
   "source": [
    "df1 = pd.merge(df1, df2[['item', 'cluster']], on='item', how='left')"
   ]
  },
  {
   "cell_type": "code",
   "execution_count": 11,
   "metadata": {},
   "outputs": [
    {
     "data": {
      "text/html": [
       "<div>\n",
       "<style scoped>\n",
       "    .dataframe tbody tr th:only-of-type {\n",
       "        vertical-align: middle;\n",
       "    }\n",
       "\n",
       "    .dataframe tbody tr th {\n",
       "        vertical-align: top;\n",
       "    }\n",
       "\n",
       "    .dataframe thead th {\n",
       "        text-align: right;\n",
       "    }\n",
       "</style>\n",
       "<table border=\"1\" class=\"dataframe\">\n",
       "  <thead>\n",
       "    <tr style=\"text-align: right;\">\n",
       "      <th></th>\n",
       "      <th>item</th>\n",
       "      <th>date</th>\n",
       "      <th>total_quantity</th>\n",
       "      <th>average_price</th>\n",
       "      <th>temperature_range</th>\n",
       "      <th>average_temperature</th>\n",
       "      <th>daily_rainfall</th>\n",
       "      <th>season</th>\n",
       "      <th>cluster</th>\n",
       "    </tr>\n",
       "  </thead>\n",
       "  <tbody>\n",
       "    <tr>\n",
       "      <th>0</th>\n",
       "      <td>감귤</td>\n",
       "      <td>2019-01-03</td>\n",
       "      <td>1797298.1</td>\n",
       "      <td>3241.550629</td>\n",
       "      <td>11.6</td>\n",
       "      <td>-3.5</td>\n",
       "      <td>0.0</td>\n",
       "      <td>겨울</td>\n",
       "      <td>1</td>\n",
       "    </tr>\n",
       "    <tr>\n",
       "      <th>1</th>\n",
       "      <td>감귤</td>\n",
       "      <td>2019-01-04</td>\n",
       "      <td>1356605.5</td>\n",
       "      <td>3241.630229</td>\n",
       "      <td>10.3</td>\n",
       "      <td>-1.1</td>\n",
       "      <td>0.0</td>\n",
       "      <td>겨울</td>\n",
       "      <td>1</td>\n",
       "    </tr>\n",
       "    <tr>\n",
       "      <th>2</th>\n",
       "      <td>감귤</td>\n",
       "      <td>2019-01-05</td>\n",
       "      <td>1306249.6</td>\n",
       "      <td>3246.549462</td>\n",
       "      <td>6.6</td>\n",
       "      <td>-2.8</td>\n",
       "      <td>0.0</td>\n",
       "      <td>겨울</td>\n",
       "      <td>1</td>\n",
       "    </tr>\n",
       "    <tr>\n",
       "      <th>3</th>\n",
       "      <td>감귤</td>\n",
       "      <td>2019-01-07</td>\n",
       "      <td>1519848.7</td>\n",
       "      <td>3280.563932</td>\n",
       "      <td>9.3</td>\n",
       "      <td>-1.9</td>\n",
       "      <td>0.0</td>\n",
       "      <td>겨울</td>\n",
       "      <td>1</td>\n",
       "    </tr>\n",
       "    <tr>\n",
       "      <th>4</th>\n",
       "      <td>감귤</td>\n",
       "      <td>2019-01-08</td>\n",
       "      <td>1282793.0</td>\n",
       "      <td>3092.842498</td>\n",
       "      <td>7.7</td>\n",
       "      <td>-3.5</td>\n",
       "      <td>0.0</td>\n",
       "      <td>겨울</td>\n",
       "      <td>1</td>\n",
       "    </tr>\n",
       "  </tbody>\n",
       "</table>\n",
       "</div>"
      ],
      "text/plain": [
       "  item        date  total_quantity  average_price  temperature_range  \\\n",
       "0   감귤  2019-01-03       1797298.1    3241.550629               11.6   \n",
       "1   감귤  2019-01-04       1356605.5    3241.630229               10.3   \n",
       "2   감귤  2019-01-05       1306249.6    3246.549462                6.6   \n",
       "3   감귤  2019-01-07       1519848.7    3280.563932                9.3   \n",
       "4   감귤  2019-01-08       1282793.0    3092.842498                7.7   \n",
       "\n",
       "   average_temperature  daily_rainfall season  cluster  \n",
       "0                 -3.5             0.0     겨울        1  \n",
       "1                 -1.1             0.0     겨울        1  \n",
       "2                 -2.8             0.0     겨울        1  \n",
       "3                 -1.9             0.0     겨울        1  \n",
       "4                 -3.5             0.0     겨울        1  "
      ]
     },
     "execution_count": 11,
     "metadata": {},
     "output_type": "execute_result"
    }
   ],
   "source": [
    "df1.head()"
   ]
  },
  {
   "cell_type": "code",
   "execution_count": 12,
   "metadata": {},
   "outputs": [
    {
     "data": {
      "text/plain": [
       "Index(['item', 'date', 'total_quantity', 'average_price', 'temperature_range',\n",
       "       'average_temperature', 'daily_rainfall', 'season', 'cluster'],\n",
       "      dtype='object')"
      ]
     },
     "execution_count": 12,
     "metadata": {},
     "output_type": "execute_result"
    }
   ],
   "source": [
    "df1.columns"
   ]
  },
  {
   "cell_type": "code",
   "execution_count": 13,
   "metadata": {},
   "outputs": [
    {
     "data": {
      "text/plain": [
       "item                    object\n",
       "date                    object\n",
       "total_quantity         float64\n",
       "average_price          float64\n",
       "temperature_range      float64\n",
       "average_temperature    float64\n",
       "daily_rainfall         float64\n",
       "season                  object\n",
       "cluster                  int64\n",
       "dtype: object"
      ]
     },
     "execution_count": 13,
     "metadata": {},
     "output_type": "execute_result"
    }
   ],
   "source": [
    "df1.dtypes"
   ]
  },
  {
   "cell_type": "code",
   "execution_count": 14,
   "metadata": {},
   "outputs": [],
   "source": [
    "df1['date'] = pd.to_datetime(df1['date'], format='%Y-%m-%d', errors='coerce')"
   ]
  },
  {
   "cell_type": "code",
   "execution_count": 16,
   "metadata": {},
   "outputs": [
    {
     "data": {
      "text/plain": [
       "item                   0\n",
       "date                   0\n",
       "total_quantity         0\n",
       "average_price          0\n",
       "temperature_range      0\n",
       "average_temperature    0\n",
       "daily_rainfall         0\n",
       "season                 0\n",
       "cluster                0\n",
       "dtype: int64"
      ]
     },
     "execution_count": 16,
     "metadata": {},
     "output_type": "execute_result"
    }
   ],
   "source": [
    "df1.isna().sum()"
   ]
  },
  {
   "cell_type": "code",
   "execution_count": 17,
   "metadata": {},
   "outputs": [],
   "source": [
    "df1.to_csv(\"../data/clustered_seoul.csv\", index=False, encoding='utf-8-sig') "
   ]
  },
  {
   "cell_type": "code",
   "execution_count": null,
   "metadata": {},
   "outputs": [],
   "source": []
  }
 ],
 "metadata": {
  "kernelspec": {
   "display_name": "cv",
   "language": "python",
   "name": "python3"
  },
  "language_info": {
   "codemirror_mode": {
    "name": "ipython",
    "version": 3
   },
   "file_extension": ".py",
   "mimetype": "text/x-python",
   "name": "python",
   "nbconvert_exporter": "python",
   "pygments_lexer": "ipython3",
   "version": "3.11.10"
  }
 },
 "nbformat": 4,
 "nbformat_minor": 2
}
