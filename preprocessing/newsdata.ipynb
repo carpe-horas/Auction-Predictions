{
 "cells": [
  {
   "cell_type": "code",
   "execution_count": 1,
   "metadata": {},
   "outputs": [],
   "source": [
    "import pandas as pd\n",
    "import html\n",
    "import re"
   ]
  },
  {
   "cell_type": "code",
   "execution_count": 2,
   "metadata": {},
   "outputs": [],
   "source": [
    "# CSV 파일 불러오기\n",
    "file_path = r\"../data/raw/agricultural_price_news.csv\"\n",
    "news_df = pd.read_csv(file_path, encoding=\"utf-8-sig\")"
   ]
  },
  {
   "cell_type": "code",
   "execution_count": 3,
   "metadata": {},
   "outputs": [],
   "source": [
    "# HTML 태그 제거\n",
    "def clean_html_tags(text):\n",
    "    if pd.isna(text):\n",
    "        return text  # 결측값 그대로 반환\n",
    "    return re.sub(r'<[^>]*>', '', text)"
   ]
  },
  {
   "cell_type": "code",
   "execution_count": 4,
   "metadata": {},
   "outputs": [],
   "source": [
    "# 특수 문자 정제\n",
    "def clean_special_chars(text):\n",
    "    if pd.isna(text):\n",
    "        return text  # 결측값 그대로 반환\n",
    "    text = html.unescape(text)  # HTML 인코딩 문자 변환\n",
    "    text = text.replace(\"\\n\", \" \").replace(\"\\t\", \" \")\n",
    "    return text"
   ]
  },
  {
   "cell_type": "code",
   "execution_count": 5,
   "metadata": {},
   "outputs": [],
   "source": [
    "# 데이터 정제: HTML 태그 제거 및 특수 문자 정리\n",
    "news_df[\"Title\"] = news_df[\"Title\"].apply(lambda x: clean_special_chars(clean_html_tags(x)))\n",
    "news_df[\"Summary\"] = news_df[\"Summary\"].apply(lambda x: clean_special_chars(clean_html_tags(x)))"
   ]
  },
  {
   "cell_type": "code",
   "execution_count": 6,
   "metadata": {},
   "outputs": [],
   "source": [
    "# 결측값 제거: Title 또는 Summary가 비어있는 경우 삭제\n",
    "news_df = news_df.dropna(subset=[\"Title\", \"Summary\"])"
   ]
  },
  {
   "cell_type": "code",
   "execution_count": 7,
   "metadata": {},
   "outputs": [
    {
     "name": "stdout",
     "output_type": "stream",
     "text": [
      "Title               0\n",
      "Link                0\n",
      "Summary             0\n",
      "Publication Date    0\n",
      "dtype: int64\n"
     ]
    }
   ],
   "source": [
    "# 각 컬럼의 결측치 개수 확인\n",
    "print(news_df.isnull().sum())"
   ]
  },
  {
   "cell_type": "code",
   "execution_count": 8,
   "metadata": {},
   "outputs": [],
   "source": [
    "# 중복된 행 제거\n",
    "news_df = news_df.drop_duplicates(subset=[\"Title\", \"Link\"])"
   ]
  },
  {
   "cell_type": "code",
   "execution_count": 11,
   "metadata": {},
   "outputs": [],
   "source": [
    "# Summary 기준으로 중복 제거\n",
    "news_df = news_df.drop_duplicates(subset=[\"Summary\"], keep=\"first\")"
   ]
  },
  {
   "cell_type": "code",
   "execution_count": 12,
   "metadata": {},
   "outputs": [
    {
     "name": "stdout",
     "output_type": "stream",
     "text": [
      "정제된 데이터가 ../data/raw/cleaned_agricultural_price_news.csv에 저장되었습니다.\n"
     ]
    }
   ],
   "source": [
    "# 파일 저장\n",
    "output_file = r\"../data/raw/cleaned_agricultural_price_news.csv\"\n",
    "news_df.to_csv(output_file, index=False, encoding=\"utf-8-sig\")\n",
    "print(f\"정제된 데이터가 {output_file}에 저장되었습니다.\")"
   ]
  }
 ],
 "metadata": {
  "kernelspec": {
   "display_name": "cv",
   "language": "python",
   "name": "python3"
  },
  "language_info": {
   "codemirror_mode": {
    "name": "ipython",
    "version": 3
   },
   "file_extension": ".py",
   "mimetype": "text/x-python",
   "name": "python",
   "nbconvert_exporter": "python",
   "pygments_lexer": "ipython3",
   "version": "3.11.10"
  }
 },
 "nbformat": 4,
 "nbformat_minor": 2
}
