{
 "cells": [
  {
   "cell_type": "code",
   "execution_count": 1,
   "metadata": {},
   "outputs": [],
   "source": [
    "import pandas as pd\n",
    "import os\n",
    "\n",
    "# 현재 스크립트 위치를 기준으로 경로 설정\n",
    "base_dir = os.path.abspath(os.path.join(os.getcwd(), '..'))  # analysis 폴더의 상위 폴더로 이동\n",
    "data_dir = os.path.join(base_dir, 'data')  # data 폴더 경로\n",
    "processed_dir = os.path.join(data_dir, 'processed')  # processed 폴더 경로\n",
    "\n",
    "# 파일 경로 설정\n",
    "climate_data_path = os.path.join(processed_dir, 'preprocessed_climate.csv')\n",
    "market_data_path = os.path.join(processed_dir, 'preprocessed_agromarket.csv')\n",
    "\n",
    "# 데이터 불러오기\n",
    "dfc = pd.read_csv(climate_data_path)\n",
    "dfm = pd.read_csv(market_data_path)"
   ]
  },
  {
   "cell_type": "code",
   "execution_count": 2,
   "metadata": {},
   "outputs": [],
   "source": [
    "# 날짜 컬럼 변환\n",
    "dfc['일시'] = pd.to_datetime(dfc['일시'], format='%Y-%m-%d')\n",
    "dfm['일자'] = pd.to_datetime(dfm['일자'].astype(str), format='%Y%m%d')"
   ]
  },
  {
   "cell_type": "code",
   "execution_count": 3,
   "metadata": {},
   "outputs": [],
   "source": [
    "# dfm에서 2024-12-20 데이터 제거\n",
    "dfm = dfm[dfm['일자'] <= '2024-12-19']"
   ]
  },
  {
   "cell_type": "code",
   "execution_count": 4,
   "metadata": {},
   "outputs": [
    {
     "name": "stdout",
     "output_type": "stream",
     "text": [
      "             일시 지점명  평균기온(°C)  최저기온(°C)  최고기온(°C)  일강수량(mm)  최대 풍속(m/s)  \\\n",
      "7904 2022-10-04  군산      23.9      20.1      24.6      13.6         7.4   \n",
      "7905 2022-10-05  군산      23.9      20.1      24.6      13.6         7.4   \n",
      "7906 2022-10-06  군산      23.9      15.5      20.9      13.6         5.6   \n",
      "\n",
      "      평균 풍속(m/s)  평균 상대습도(%)  평균 현지기압(hPa)  합계 일조시간(hr)  일 최심신적설(cm)  \n",
      "7904         5.0        86.9        1011.0          0.0          NaN  \n",
      "7905         5.0        86.9        1011.0          0.0          NaN  \n",
      "7906         3.3        86.9        1011.0          0.5          NaN  \n"
     ]
    },
    {
     "name": "stderr",
     "output_type": "stream",
     "text": [
      "C:\\Users\\skfkz\\AppData\\Local\\Temp\\ipykernel_7592\\178767433.py:9: DeprecationWarning: DataFrameGroupBy.apply operated on the grouping columns. This behavior is deprecated, and in a future version of pandas the grouping columns will be excluded from the operation. Either pass `include_groups=False` to exclude the groupings or explicitly select the grouping columns after groupby to silence this warning.\n",
      "  .apply(lambda group: group.reindex(full_date_range).ffill())  # 전체 날짜 범위로 재구성 후 이전 값으로 채움\n"
     ]
    }
   ],
   "source": [
    "# 날씨 데이터 결측치 데이터 생성\n",
    "# 1) 날짜 범위 생성\n",
    "full_date_range = pd.date_range(start=dfc['일시'].min(), end=dfc['일시'].max())  # 전체 날짜 범위 생성\n",
    "\n",
    "# 2) 각 지점별로 데이터 재구성 및 채우기\n",
    "df_filled = (\n",
    "    dfc.set_index('일시')  # '일시'를 인덱스로 설정\n",
    "    .groupby('지점명', group_keys=False)  # 지점별로 그룹화\n",
    "    .apply(lambda group: group.reindex(full_date_range).ffill())  # 전체 날짜 범위로 재구성 후 이전 값으로 채움\n",
    ")\n",
    "\n",
    "# 3) 지점명 복구\n",
    "df_filled['지점명'] = df_filled['지점명'].ffill()\n",
    "\n",
    "# 4) 인덱스를 복원하여 '일시' 컬럼으로 변환\n",
    "df_filled = df_filled.reset_index().rename(columns={'index': '일시'})\n",
    "\n",
    "# 5) 결과 확인 (군산 2022-10-05 결측치)\n",
    "print(df_filled[(df_filled['지점명'] == '군산') & \n",
    "                (df_filled['일시'] >= '2022-10-04') & \n",
    "                (df_filled['일시'] <= '2022-10-06')]) \n",
    "\n",
    "# 6) 원본 데이터 대체\n",
    "dfc = df_filled.copy()"
   ]
  },
  {
   "cell_type": "code",
   "execution_count": 5,
   "metadata": {},
   "outputs": [],
   "source": [
    "# 도매시장의 지역 날씨를 위한 맵핑\n",
    "\n",
    "#도매시장 지역명을 앞 2글자로 변환\n",
    "dfm['region'] = dfm['도매시장'].str[:2]\n",
    "\n",
    "special_map = {\n",
    "    '익산': '군산',\n",
    "    '구리': '서울',\n",
    "    '안양': '수원',\n",
    "    '안산': '인천'\n",
    "}\n",
    "\n",
    "dfm['region'] = dfm['region'].replace(special_map)"
   ]
  },
  {
   "cell_type": "code",
   "execution_count": 6,
   "metadata": {},
   "outputs": [],
   "source": [
    "#도매시장 데이터와 날씨 데이터 조인\n",
    "dfc = dfc.set_index(['지점명', '일시'])\n",
    "\n",
    "df_merged = pd.merge(\n",
    "    dfm,\n",
    "    dfc,\n",
    "    left_on=['region', '일자'],\n",
    "    right_index=True,\n",
    "    how='left'\n",
    ")\n",
    "\n",
    "df_merged = df_merged.reset_index(drop=True)"
   ]
  },
  {
   "cell_type": "code",
   "execution_count": 7,
   "metadata": {},
   "outputs": [],
   "source": [
    "#기후 관련 결측값(NaN)을 0으로 대체\n",
    "weather_cols = [\n",
    "    '평균기온(°C)', '최저기온(°C)', '최고기온(°C)',\n",
    "    '일강수량(mm)', '최대 풍속(m/s)', '평균 풍속(m/s)',\n",
    "    '평균 상대습도(%)', '평균 현지기압(hPa)', '합계 일조시간(hr)', '일 최심신적설(cm)'\n",
    "]\n",
    "for col in weather_cols:\n",
    "    if col in df_merged.columns:\n",
    "        df_merged[col] = df_merged[col].fillna(0)"
   ]
  },
  {
   "cell_type": "code",
   "execution_count": 8,
   "metadata": {},
   "outputs": [],
   "source": [
    "# 조인된 데이터 csv로 저장\n",
    "joined_data_path = os.path.join(processed_dir, 'joined_market_climate.csv')\n",
    "df_merged.to_csv(joined_data_path, index=False)"
   ]
  },
  {
   "cell_type": "code",
   "execution_count": 9,
   "metadata": {},
   "outputs": [
    {
     "name": "stdout",
     "output_type": "stream",
     "text": [
      "=== 결합된 df_merged 기본 정보 ===\n",
      "<class 'pandas.core.frame.DataFrame'>\n",
      "RangeIndex: 6387444 entries, 0 to 6387443\n",
      "Data columns (total 18 columns):\n",
      " #   Column        Dtype         \n",
      "---  ------        -----         \n",
      " 0   일자            datetime64[ns]\n",
      " 1   부류            object        \n",
      " 2   품목            object        \n",
      " 3   품종            object        \n",
      " 4   도매시장          object        \n",
      " 5   물량(kg)        float64       \n",
      " 6   금액(원)         float64       \n",
      " 7   region        object        \n",
      " 8   평균기온(°C)      float64       \n",
      " 9   최저기온(°C)      float64       \n",
      " 10  최고기온(°C)      float64       \n",
      " 11  일강수량(mm)      float64       \n",
      " 12  최대 풍속(m/s)    float64       \n",
      " 13  평균 풍속(m/s)    float64       \n",
      " 14  평균 상대습도(%)    float64       \n",
      " 15  평균 현지기압(hPa)  float64       \n",
      " 16  합계 일조시간(hr)   float64       \n",
      " 17  일 최심신적설(cm)   float64       \n",
      "dtypes: datetime64[ns](1), float64(12), object(5)\n",
      "memory usage: 877.2+ MB\n",
      "None\n",
      "          일자     부류   품목         품종 도매시장  물량(kg)      금액(원) region  평균기온(°C)  \\\n",
      "0 2019-02-01    버섯류  새송이  새송이버섯(일반)   강릉  1303.0  4081500.0     강릉       0.3   \n",
      "1 2019-02-01  조미채소류   마늘    마늘쫑(수입)   강릉   224.0   586000.0     강릉       0.3   \n",
      "2 2019-02-01  조미채소류   마늘        깐마늘   강릉  1287.0  7259700.0     강릉       0.3   \n",
      "3 2019-02-01  조미채소류   마늘        풋마늘   강릉   210.0   491000.0     강릉       0.3   \n",
      "4 2019-02-01  조미채소류  풋고추        아삭이   강릉    62.0   244000.0     강릉       0.3   \n",
      "\n",
      "   최저기온(°C)  최고기온(°C)  일강수량(mm)  최대 풍속(m/s)  평균 풍속(m/s)  평균 상대습도(%)  \\\n",
      "0      -3.9       4.6      13.0         7.0         4.7        30.3   \n",
      "1      -3.9       4.6      13.0         7.0         4.7        30.3   \n",
      "2      -3.9       4.6      13.0         7.0         4.7        30.3   \n",
      "3      -3.9       4.6      13.0         7.0         4.7        30.3   \n",
      "4      -3.9       4.6      13.0         7.0         4.7        30.3   \n",
      "\n",
      "   평균 현지기압(hPa)  합계 일조시간(hr)  일 최심신적설(cm)  \n",
      "0        1016.1          9.4          0.0  \n",
      "1        1016.1          9.4          0.0  \n",
      "2        1016.1          9.4          0.0  \n",
      "3        1016.1          9.4          0.0  \n",
      "4        1016.1          9.4          0.0  \n"
     ]
    }
   ],
   "source": [
    "# 기본 정보 확인\n",
    "print(\"=== 결합된 df_merged 기본 정보 ===\")\n",
    "print(df_merged.info())\n",
    "print(df_merged.head())"
   ]
  }
 ],
 "metadata": {
  "kernelspec": {
   "display_name": "tf",
   "language": "python",
   "name": "python3"
  },
  "language_info": {
   "codemirror_mode": {
    "name": "ipython",
    "version": 3
   },
   "file_extension": ".py",
   "mimetype": "text/x-python",
   "name": "python",
   "nbconvert_exporter": "python",
   "pygments_lexer": "ipython3",
   "version": "3.10.15"
  }
 },
 "nbformat": 4,
 "nbformat_minor": 2
}
