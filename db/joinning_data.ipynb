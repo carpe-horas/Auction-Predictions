{
 "cells": [
  {
   "cell_type": "code",
   "execution_count": 1,
   "metadata": {},
   "outputs": [],
   "source": [
    "#  Imports\n",
    "import pandas as pd\n",
    "import os\n",
    "\n",
    "# 경로 설정\n",
    "base_dir = os.path.abspath(os.path.join(os.getcwd(), '..')) \n",
    "data_dir = os.path.join(base_dir, 'data')  # data 폴더 경로\n",
    "processed_dir = os.path.join(data_dir, 'processed')  # processed 폴더 경로\n",
    "\n",
    "# 파일 경로 설정\n",
    "climate_data_path = os.path.join(processed_dir, 'preprocessed_climate.csv')\n",
    "market_data_path = os.path.join(processed_dir, 'preprocessed_agromarket.csv')\n",
    "\n",
    "# 데이터 불러오기\n",
    "dfc = pd.read_csv(climate_data_path)\n",
    "dfm = pd.read_csv(market_data_path)"
   ]
  },
  {
   "cell_type": "code",
   "execution_count": 2,
   "metadata": {},
   "outputs": [
    {
     "data": {
      "text/html": [
       "<div>\n",
       "<style scoped>\n",
       "    .dataframe tbody tr th:only-of-type {\n",
       "        vertical-align: middle;\n",
       "    }\n",
       "\n",
       "    .dataframe tbody tr th {\n",
       "        vertical-align: top;\n",
       "    }\n",
       "\n",
       "    .dataframe thead th {\n",
       "        text-align: right;\n",
       "    }\n",
       "</style>\n",
       "<table border=\"1\" class=\"dataframe\">\n",
       "  <thead>\n",
       "    <tr style=\"text-align: right;\">\n",
       "      <th></th>\n",
       "      <th>지점명</th>\n",
       "      <th>일시</th>\n",
       "      <th>평균기온(°C)</th>\n",
       "      <th>최저기온(°C)</th>\n",
       "      <th>최고기온(°C)</th>\n",
       "      <th>일강수량(mm)</th>\n",
       "      <th>최대 풍속(m/s)</th>\n",
       "      <th>평균 풍속(m/s)</th>\n",
       "      <th>평균 상대습도(%)</th>\n",
       "      <th>평균 현지기압(hPa)</th>\n",
       "      <th>합계 일조시간(hr)</th>\n",
       "      <th>일 최심신적설(cm)</th>\n",
       "    </tr>\n",
       "  </thead>\n",
       "  <tbody>\n",
       "    <tr>\n",
       "      <th>0</th>\n",
       "      <td>춘천</td>\n",
       "      <td>2019-01-03</td>\n",
       "      <td>-7.1</td>\n",
       "      <td>-13.7</td>\n",
       "      <td>2.3</td>\n",
       "      <td>NaN</td>\n",
       "      <td>1.6</td>\n",
       "      <td>0.7</td>\n",
       "      <td>59.4</td>\n",
       "      <td>1025.8</td>\n",
       "      <td>8.0</td>\n",
       "      <td>NaN</td>\n",
       "    </tr>\n",
       "    <tr>\n",
       "      <th>1</th>\n",
       "      <td>춘천</td>\n",
       "      <td>2019-01-04</td>\n",
       "      <td>-4.6</td>\n",
       "      <td>-12.0</td>\n",
       "      <td>2.9</td>\n",
       "      <td>NaN</td>\n",
       "      <td>3.1</td>\n",
       "      <td>0.9</td>\n",
       "      <td>65.1</td>\n",
       "      <td>1020.9</td>\n",
       "      <td>6.6</td>\n",
       "      <td>NaN</td>\n",
       "    </tr>\n",
       "    <tr>\n",
       "      <th>2</th>\n",
       "      <td>춘천</td>\n",
       "      <td>2019-01-05</td>\n",
       "      <td>-4.3</td>\n",
       "      <td>-9.5</td>\n",
       "      <td>3.4</td>\n",
       "      <td>NaN</td>\n",
       "      <td>2.5</td>\n",
       "      <td>0.9</td>\n",
       "      <td>59.0</td>\n",
       "      <td>1017.1</td>\n",
       "      <td>7.9</td>\n",
       "      <td>NaN</td>\n",
       "    </tr>\n",
       "    <tr>\n",
       "      <th>3</th>\n",
       "      <td>춘천</td>\n",
       "      <td>2019-01-06</td>\n",
       "      <td>-5.1</td>\n",
       "      <td>-10.4</td>\n",
       "      <td>4.0</td>\n",
       "      <td>NaN</td>\n",
       "      <td>2.3</td>\n",
       "      <td>0.9</td>\n",
       "      <td>54.0</td>\n",
       "      <td>1019.0</td>\n",
       "      <td>6.6</td>\n",
       "      <td>NaN</td>\n",
       "    </tr>\n",
       "    <tr>\n",
       "      <th>4</th>\n",
       "      <td>춘천</td>\n",
       "      <td>2019-01-07</td>\n",
       "      <td>-5.1</td>\n",
       "      <td>-12.1</td>\n",
       "      <td>3.3</td>\n",
       "      <td>NaN</td>\n",
       "      <td>4.4</td>\n",
       "      <td>1.1</td>\n",
       "      <td>57.6</td>\n",
       "      <td>1018.5</td>\n",
       "      <td>6.8</td>\n",
       "      <td>NaN</td>\n",
       "    </tr>\n",
       "  </tbody>\n",
       "</table>\n",
       "</div>"
      ],
      "text/plain": [
       "  지점명          일시  평균기온(°C)  최저기온(°C)  최고기온(°C)  일강수량(mm)  최대 풍속(m/s)  \\\n",
       "0  춘천  2019-01-03      -7.1     -13.7       2.3       NaN         1.6   \n",
       "1  춘천  2019-01-04      -4.6     -12.0       2.9       NaN         3.1   \n",
       "2  춘천  2019-01-05      -4.3      -9.5       3.4       NaN         2.5   \n",
       "3  춘천  2019-01-06      -5.1     -10.4       4.0       NaN         2.3   \n",
       "4  춘천  2019-01-07      -5.1     -12.1       3.3       NaN         4.4   \n",
       "\n",
       "   평균 풍속(m/s)  평균 상대습도(%)  평균 현지기압(hPa)  합계 일조시간(hr)  일 최심신적설(cm)  \n",
       "0         0.7        59.4        1025.8          8.0          NaN  \n",
       "1         0.9        65.1        1020.9          6.6          NaN  \n",
       "2         0.9        59.0        1017.1          7.9          NaN  \n",
       "3         0.9        54.0        1019.0          6.6          NaN  \n",
       "4         1.1        57.6        1018.5          6.8          NaN  "
      ]
     },
     "execution_count": 2,
     "metadata": {},
     "output_type": "execute_result"
    }
   ],
   "source": [
    "dfc.head()"
   ]
  },
  {
   "cell_type": "code",
   "execution_count": 3,
   "metadata": {},
   "outputs": [],
   "source": [
    "#  날짜 컬럼 변환\n",
    "dfc['일시'] = pd.to_datetime(dfc['일시'], format='%Y-%m-%d')\n",
    "dfm['일자'] = pd.to_datetime(dfm['일자'].astype(str), format='%Y%m%d')\n",
    "\n",
    "# 2024-12-20 이후의 데이터 필터링\n",
    "dfm = dfm[dfm['일자'] < '2024-12-20']\n",
    "dfc = dfc[dfc['일시'] < '2024-12-20']"
   ]
  },
  {
   "cell_type": "code",
   "execution_count": 4,
   "metadata": {},
   "outputs": [],
   "source": [
    "#  서울/수도권 도매시장 필터링\n",
    "# 서울 및 수도권 도매시장 필터링\n",
    "capital_region_markets = ['구리', '서울가락', '서울강서', '수원', '인천남촌', '인천삼산', '안산', '안양']\n",
    "dfm = dfm[dfm['도매시장'].isin(capital_region_markets)]\n",
    "\n",
    "# 서울 지역 날씨 필터링\n",
    "dfc = dfc[dfc['지점명'] == '서울']"
   ]
  },
  {
   "cell_type": "code",
   "execution_count": 5,
   "metadata": {},
   "outputs": [],
   "source": [
    "# 품목별 단위가격 계산 및 일자별 집계\n",
    "dfm['단위가격(원/kg)'] = dfm['금액(원)'] / dfm['물량(kg)']\n",
    "\n",
    "# 품목별 일자별 총물량과 평균단가 계산\n",
    "dfm_daily = (\n",
    "    dfm.groupby(['품목', '일자'])\n",
    "    .agg(총물량=('물량(kg)', 'sum'), 평균단가=('단위가격(원/kg)', 'mean'))\n",
    "    .reset_index()\n",
    ")\n"
   ]
  },
  {
   "cell_type": "code",
   "execution_count": 6,
   "metadata": {},
   "outputs": [],
   "source": [
    "# 기후 파생변수 생성\n",
    "# 온도차 파생변수\n",
    "dfc['온도차(°C)'] = (dfc['최고기온(°C)'] - dfc['최저기온(°C)']).round(1) \n",
    "\n",
    "# 계절 파생변수\n",
    "def get_season(month):\n",
    "    if month in [3, 4, 5]:\n",
    "        return '봄'\n",
    "    elif month in [6, 7, 8]:\n",
    "        return '여름'\n",
    "    elif month in [9, 10, 11]:\n",
    "        return '가을'\n",
    "    else:\n",
    "        return '겨울'\n",
    "\n",
    "dfc['계절'] = pd.to_datetime(dfc['일시']).dt.month.apply(get_season)\n"
   ]
  },
  {
   "cell_type": "code",
   "execution_count": 7,
   "metadata": {},
   "outputs": [],
   "source": [
    "# 필요한 칼럼만 남기기\n",
    "dfc = dfc[['일시', '온도차(°C)', '평균기온(°C)', '일강수량(mm)', '계절']]"
   ]
  },
  {
   "cell_type": "code",
   "execution_count": 8,
   "metadata": {},
   "outputs": [],
   "source": [
    "# 결측치 처리\n",
    "dfc.fillna(0, inplace=True)"
   ]
  },
  {
   "cell_type": "code",
   "execution_count": 9,
   "metadata": {},
   "outputs": [],
   "source": [
    "# 데이터 결합\n",
    "dfc = dfc.rename(columns={'일시': '일자'})\n",
    "df_final = pd.merge(dfm_daily, dfc, on='일자', how='left')"
   ]
  },
  {
   "cell_type": "code",
   "execution_count": 10,
   "metadata": {},
   "outputs": [],
   "source": [
    "# 데이터 저장\n",
    "final_data_path = os.path.join(processed_dir, 'daily_average_price_volume_by_product_seoul.csv')\n",
    "df_final.to_csv(final_data_path, index=False, encoding='utf-8-sig')"
   ]
  },
  {
   "cell_type": "code",
   "execution_count": 11,
   "metadata": {},
   "outputs": [
    {
     "name": "stdout",
     "output_type": "stream",
     "text": [
      "=== 최종 df_final 기본 정보 ===\n",
      "<class 'pandas.core.frame.DataFrame'>\n",
      "RangeIndex: 53244 entries, 0 to 53243\n",
      "Data columns (total 8 columns):\n",
      " #   Column    Non-Null Count  Dtype         \n",
      "---  ------    --------------  -----         \n",
      " 0   품목        53244 non-null  object        \n",
      " 1   일자        53244 non-null  datetime64[ns]\n",
      " 2   총물량       53244 non-null  float64       \n",
      " 3   평균단가      53244 non-null  float64       \n",
      " 4   온도차(°C)   53244 non-null  float64       \n",
      " 5   평균기온(°C)  53244 non-null  float64       \n",
      " 6   일강수량(mm)  53244 non-null  float64       \n",
      " 7   계절        53244 non-null  object        \n",
      "dtypes: datetime64[ns](1), float64(5), object(2)\n",
      "memory usage: 3.2+ MB\n",
      "None\n",
      "   품목         일자        총물량         평균단가  온도차(°C)  평균기온(°C)  일강수량(mm)  계절\n",
      "0  감귤 2019-01-03  1797298.1  3241.550629     11.6      -3.5       0.0  겨울\n",
      "1  감귤 2019-01-04  1356605.5  3241.630229     10.3      -1.1       0.0  겨울\n",
      "2  감귤 2019-01-05  1306249.6  3246.549462      6.6      -2.8       0.0  겨울\n",
      "3  감귤 2019-01-07  1519848.7  3280.563932      9.3      -1.9       0.0  겨울\n",
      "4  감귤 2019-01-08  1282793.0  3092.842498      7.7      -3.5       0.0  겨울\n",
      "5  감귤 2019-01-09  1273267.1  3042.698840     10.7      -4.7       0.0  겨울\n",
      "6  감귤 2019-01-10  1134999.0  3091.178186      7.5      -0.6       0.0  겨울\n",
      "7  감귤 2019-01-11  1118079.5  3083.649713      7.6       2.4       0.0  겨울\n",
      "8  감귤 2019-01-12  1050159.4  2894.340025      8.6       2.8       0.0  겨울\n",
      "9  감귤 2019-01-14  1144333.1  3101.733114      7.7       1.4       0.0  겨울\n"
     ]
    }
   ],
   "source": [
    "#  기본 정보 확인\n",
    "print(\"=== 최종 df_final 기본 정보 ===\")\n",
    "print(df_final.info())\n",
    "print(df_final.head(10))"
   ]
  }
 ],
 "metadata": {
  "kernelspec": {
   "display_name": "tf",
   "language": "python",
   "name": "python3"
  },
  "language_info": {
   "codemirror_mode": {
    "name": "ipython",
    "version": 3
   },
   "file_extension": ".py",
   "mimetype": "text/x-python",
   "name": "python",
   "nbconvert_exporter": "python",
   "pygments_lexer": "ipython3",
   "version": "3.10.15"
  }
 },
 "nbformat": 4,
 "nbformat_minor": 2
}
